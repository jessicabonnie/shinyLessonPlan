{
 "cells": [
  {
   "cell_type": "code",
   "execution_count": 4,
   "metadata": {
    "collapsed": false
   },
   "outputs": [],
   "source": [
    "import os\n",
    "import glob\n",
    "import pandas as pd\n",
    "\n",
    "from bs4 import BeautifulSoup"
   ]
  },
  {
   "cell_type": "code",
   "execution_count": 9,
   "metadata": {
    "collapsed": true
   },
   "outputs": [],
   "source": [
    "a = os.getcwd()\n",
    "os.chdir(a)"
   ]
  },
  {
   "cell_type": "code",
   "execution_count": 11,
   "metadata": {
    "collapsed": false
   },
   "outputs": [
    {
     "name": "stdout",
     "output_type": "stream",
     "text": [
      "Index(['County', 'State', 'FIPS County Code', 'Rate', 'Year'], dtype='object')\n",
      "Index(['County', 'State', 'FIPS County Code', 'Rate', 'Year'], dtype='object')\n",
      "Index(['County', 'State', 'FIPS County Code', 'Rate', 'Year'], dtype='object')\n",
      "Index(['AREA', 'STATE', 'FIPS', 'RATE', 'Year'], dtype='object')\n"
     ]
    }
   ],
   "source": [
    "print(df2013.columns)\n",
    "print(df2014.columns)\n",
    "print(df2015.columns)\n",
    "print(df2016.columns)"
   ]
  },
  {
   "cell_type": "code",
   "execution_count": 16,
   "metadata": {
    "collapsed": false
   },
   "outputs": [],
   "source": [
    "df2013 = pd.read_csv(\"2013.csv\")\n",
    "df2014 = pd.read_csv(\"2014.csv\")\n",
    "df2015 = pd.read_csv(\"2015.csv\")\n",
    "df2016 = pd.read_csv(\"2016.csv\")\n",
    "df2016.columns= ['County', 'State', 'FIPS County Code', 'Rate', 'Year']\n",
    "prescriberate = pd.concat([df2013, df2014, df2015, df2016], ignore_index=True)"
   ]
  },
  {
   "cell_type": "code",
   "execution_count": 17,
   "metadata": {
    "collapsed": false
   },
   "outputs": [],
   "source": [
    "prescriberate.to_csv(\"prescriberate.csv\")"
   ]
  }
 ],
 "metadata": {
  "kernelspec": {
   "display_name": "Python 3",
   "language": "python",
   "name": "python3"
  },
  "language_info": {
   "codemirror_mode": {
    "name": "ipython",
    "version": 3
   },
   "file_extension": ".py",
   "mimetype": "text/x-python",
   "name": "python",
   "nbconvert_exporter": "python",
   "pygments_lexer": "ipython3",
   "version": "3.6.0"
  }
 },
 "nbformat": 4,
 "nbformat_minor": 2
}
